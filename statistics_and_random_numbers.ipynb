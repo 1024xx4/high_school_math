{
 "cells": [
  {
   "cell_type": "code",
   "execution_count": 4,
   "metadata": {
    "collapsed": true
   },
   "outputs": [
    {
     "name": "stdout",
     "output_type": "stream",
     "text": [
      "   数学  理科\n",
      "0  75  60\n",
      "1  30  85\n",
      "2  50  55\n",
      "3  85  70\n",
      "4  45  60\n"
     ]
    },
    {
     "data": {
      "text/plain": "0      75\n1      30\n2      50\n3      85\n4      45\n5      85\n6      20\n7      95\n8      95\n9      35\n10    100\n11     55\n12     95\n13     95\n14     15\n15    100\n16     85\n17     95\n18     95\n19     20\n20     50\n21     40\n22     60\n23     30\n24     40\n25    100\n26     55\n27     60\n28     95\n29    100\n30     90\n31     65\n32     45\n33     95\n34    100\n35     85\n36     50\n37     90\n38     85\n39     95\nName: 数学, dtype: int64"
     },
     "execution_count": 4,
     "metadata": {},
     "output_type": "execute_result"
    }
   ],
   "source": [
    "import pandas as pd\n",
    "\n",
    "# score.csv の読み込み\n",
    "dat = pd.read_csv('sample_data/score.csv', encoding='SHIFT-JIS')\n",
    "print(dat.head())  # 内容を確認\n",
    "dat['数学'][0]\n",
    "dat['数学']"
   ]
  }
 ],
 "metadata": {
  "kernelspec": {
   "display_name": "Python 3",
   "language": "python",
   "name": "python3"
  },
  "language_info": {
   "codemirror_mode": {
    "name": "ipython",
    "version": 2
   },
   "file_extension": ".py",
   "mimetype": "text/x-python",
   "name": "python",
   "nbconvert_exporter": "python",
   "pygments_lexer": "ipython2",
   "version": "2.7.6"
  }
 },
 "nbformat": 4,
 "nbformat_minor": 0
}