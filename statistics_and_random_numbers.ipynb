{
 "cells": [
  {
   "cell_type": "code",
   "execution_count": 1,
   "metadata": {
    "collapsed": true
   },
   "outputs": [
    {
     "ename": "ModuleNotFoundError",
     "evalue": "No module named 'pydev_jupyter_utils'",
     "output_type": "error",
     "traceback": [
      "\u001B[0;31m---------------------------------------------------------------------------\u001B[0m",
      "\u001B[0;31mModuleNotFoundError\u001B[0m                       Traceback (most recent call last)",
      "\u001B[0;32m/tmp/ipykernel_1041/1931399053.py\u001B[0m in \u001B[0;36m<module>\u001B[0;34m\u001B[0m\n\u001B[1;32m      4\u001B[0m     \u001B[0msys\u001B[0m\u001B[0;34m.\u001B[0m\u001B[0mpath\u001B[0m\u001B[0;34m.\u001B[0m\u001B[0minsert\u001B[0m\u001B[0;34m(\u001B[0m\u001B[0;36m0\u001B[0m\u001B[0;34m,\u001B[0m \u001B[0;34m'C:\\\\Users\\\\leone\\\\AppData\\\\Local\\\\JetBrains\\\\Toolbox\\\\apps\\\\PyCharm-P\\\\ch-0\\\\212.5457.59\\\\plugins\\\\python\\\\helpers\\\\pydev'\u001B[0m\u001B[0;34m)\u001B[0m\u001B[0;34m\u001B[0m\u001B[0;34m\u001B[0m\u001B[0m\n\u001B[1;32m      5\u001B[0m     \u001B[0msys\u001B[0m\u001B[0;34m.\u001B[0m\u001B[0mpath\u001B[0m\u001B[0;34m.\u001B[0m\u001B[0minsert\u001B[0m\u001B[0;34m(\u001B[0m\u001B[0;36m0\u001B[0m\u001B[0;34m,\u001B[0m \u001B[0;34m'C:\\\\Users\\\\leone\\\\AppData\\\\Local\\\\JetBrains\\\\Toolbox\\\\apps\\\\PyCharm-P\\\\ch-0\\\\212.5457.59\\\\plugins\\\\python\\\\helpers-pro\\\\jupyter_debug'\u001B[0m\u001B[0;34m)\u001B[0m\u001B[0;34m\u001B[0m\u001B[0;34m\u001B[0m\u001B[0m\n\u001B[0;32m----> 6\u001B[0;31m \u001B[0;32mfrom\u001B[0m \u001B[0mpydev_jupyter_utils\u001B[0m \u001B[0;32mimport\u001B[0m \u001B[0mremove_imported_pydev_package\u001B[0m\u001B[0;34m\u001B[0m\u001B[0;34m\u001B[0m\u001B[0m\n\u001B[0m\u001B[1;32m      7\u001B[0m \u001B[0mremove_imported_pydev_package\u001B[0m\u001B[0;34m(\u001B[0m\u001B[0;34m)\u001B[0m\u001B[0;34m\u001B[0m\u001B[0;34m\u001B[0m\u001B[0m\n\u001B[1;32m      8\u001B[0m \u001B[0;32mimport\u001B[0m \u001B[0mpydev_jupyter_utils\u001B[0m\u001B[0;34m\u001B[0m\u001B[0;34m\u001B[0m\u001B[0m\n",
      "\u001B[0;31mModuleNotFoundError\u001B[0m: No module named 'pydev_jupyter_utils'"
     ]
    }
   ],
   "source": [
    "import pandas as pd\n",
    "\n",
    "# score.csv の読み込み\n",
    "dat = pd.read_csv('sample_data/score.csv', encoding='SHIFT-JIS')\n",
    "print(dat.head())  # 内容を確認\n",
    "dat['数学'][0]\n",
    "dat['数学']"
   ]
  },
  {
   "cell_type": "code",
   "execution_count": 1,
   "outputs": [
    {
     "name": "stdout",
     "output_type": "stream",
     "text": [
      "平均値 70.0\n",
      "中央値 85.0\n",
      "最頻値 95\n"
     ]
    }
   ],
   "source": [
    "# List 7-2 平均値、中央値、最頻値を求める\n",
    "import pandas as pd\n",
    "import numpy as np\n",
    "\n",
    "# score.csv の読み込み\n",
    "dat = pd.read_csv('sample_data/score.csv', encoding='SHIFT-JIS')\n",
    "\n",
    "# 平均値、中央値\n",
    "print('平均値', np.mean(dat['数学']))\n",
    "print('中央値', np.median(dat['数学']))\n",
    "\n",
    "# 最頻値\n",
    "bincnt = np.bincount(dat['数学']) # 同じ値の個数を数える。\n",
    "mode = np.argmax(bincnt) # bincnt の中で最も大きな値を取得\n",
    "print('最頻値', mode)"
   ],
   "metadata": {
    "collapsed": false,
    "pycharm": {
     "name": "#%%\n"
    }
   }
  },
  {
   "cell_type": "code",
   "execution_count": 4,
   "outputs": [
    {
     "name": "stdout",
     "output_type": "stream",
     "text": [
      "度数 [0, 1, 2, 3, 4, 5, 3, 1, 5, 16]\n"
     ]
    },
    {
     "data": {
      "text/plain": "<Figure size 432x288 with 1 Axes>",
      "image/png": "[encoded data removed]"
     },
     "metadata": {
      "needs_background": "light"
     },
     "output_type": "display_data"
    }
   ],
   "source": [
    "# List 7-3 度数分布図を描画する\n",
    "import matplotlib.pyplot as plt\n",
    "import pandas as pd\n",
    "\n",
    "# score.csv の読み込み\n",
    "dat = pd.read_csv('sample_data/score.csv', encoding='SHIFT-JIS')\n",
    "\n",
    "# 各階級に含まれる度数を数える\n",
    "hist = [0] * 10  # 度数（要素 10, 0 で初期化）\n",
    "for dat in dat['数学']:\n",
    "    if dat < 10:\n",
    "        hist[0] += 1\n",
    "    elif dat < 20:\n",
    "        hist[1] += 1\n",
    "    elif dat < 30:\n",
    "        hist[2] += 1\n",
    "    elif dat < 40:\n",
    "        hist[3] += 1\n",
    "    elif dat < 50:\n",
    "        hist[4] += 1\n",
    "    elif dat < 60:\n",
    "        hist[5] += 1\n",
    "    elif dat < 70:\n",
    "        hist[6] += 1\n",
    "    elif dat < 80:\n",
    "        hist[7] += 1\n",
    "    elif dat < 90:\n",
    "        hist[8] += 1\n",
    "    elif dat <= 100:\n",
    "        hist[9] += 1\n",
    "print('度数', hist)\n",
    "\n",
    "# 度数分布図\n",
    "x = list(range(1, 11)) # x軸の値\n",
    "labels = ['0~', '10~', '20~', '30~', '40~', '50~', '60~', '70~', '80~', '90~'] # x軸の目盛り Label\n",
    "plt.bar(x, hist, tick_label=labels, width=1) # 棒 Graph を描画\n",
    "plt.show()"
   ],
   "metadata": {
    "collapsed": false,
    "pycharm": {
     "name": "#%%\n"
    }
   }
  }
 ],
 "metadata": {
  "kernelspec": {
   "display_name": "Python 3",
   "language": "python",
   "name": "python3"
  },
  "language_info": {
   "codemirror_mode": {
    "name": "ipython",
    "version": 2
   },
   "file_extension": ".py",
   "mimetype": "text/x-python",
   "name": "python",
   "nbconvert_exporter": "python",
   "pygments_lexer": "ipython2",
   "version": "2.7.6"
  }
 },
 "nbformat": 4,
 "nbformat_minor": 0
}