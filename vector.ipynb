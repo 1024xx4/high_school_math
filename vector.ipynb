{
 "cells": [
  {
   "cell_type": "code",
   "execution_count": 3,
   "metadata": {
    "collapsed": true
   },
   "outputs": [
    {
     "name": "stdout",
     "output_type": "stream",
     "text": [
      "56.309932474020215\n",
      "Vector direction is about 56 degrees.\n"
     ]
    }
   ],
   "source": [
    "# Find the direction of the vector\n",
    "## Vector with component(2, 3)\n",
    "import math\n",
    "\n",
    "radian = math.atan2(3, 2)  # Find the angle.(Radian)\n",
    "th = math.degrees(radian)  # Convert to degree method\n",
    "print(th)\n",
    "print(f'Vector direction is about {round(th)} degrees.')"
   ]
  },
  {
   "cell_type": "code",
   "execution_count": 2,
   "outputs": [
    {
     "name": "stdout",
     "output_type": "stream",
     "text": [
      "[4 1]\n",
      "[0 3]\n",
      "[4 4]\n"
     ]
    }
   ],
   "source": [
    "import numpy as np\n",
    "\n",
    "a = np.array([2, 2])  # Component of vector a.\n",
    "b = np.array([2, -1])  # Component of vector b.\n",
    "print(a + b)  # Vector a + Vector b\n",
    "print(a - b)\n",
    "print(2 * a)"
   ],
   "metadata": {
    "collapsed": false,
    "pycharm": {
     "name": "#%%\n"
    }
   }
  },
  {
   "cell_type": "code",
   "execution_count": 3,
   "outputs": [
    {
     "data": {
      "text/plain": "{a: 2/3, b: 8/3}"
     },
     "execution_count": 3,
     "metadata": {},
     "output_type": "execute_result"
    }
   ],
   "source": [
    "from sympy import Symbol, solve\n",
    "\n",
    "a = Symbol('a')\n",
    "b = Symbol('b')\n",
    "ex1 = -1 * a + b - 2\n",
    "ex2 = 2 * a + b - 4\n",
    "solve((ex1, ex2))"
   ],
   "metadata": {
    "collapsed": false,
    "pycharm": {
     "name": "#%%\n"
    }
   }
  },
  {
   "cell_type": "code",
   "execution_count": 2,
   "outputs": [
    {
     "name": "stdout",
     "output_type": "stream",
     "text": [
      "Taro's contribution is 5\n"
     ]
    }
   ],
   "source": [
    "# Seeking Taro's contribution\n",
    "import math\n",
    "\n",
    "contribution = 10 * math.cos(math.radians(60))\n",
    "print(f\"Taro's contribution is {round(contribution)}\")"
   ],
   "metadata": {
    "collapsed": false,
    "pycharm": {
     "name": "#%%\n"
    }
   }
  },
  {
   "cell_type": "code",
   "execution_count": 9,
   "outputs": [
    {
     "name": "stdout",
     "output_type": "stream",
     "text": [
      "[ 4 -6] [4 2]\n",
      "7.211102550927978 4.47213595499958\n",
      "4\n",
      "82.8749836510982\n",
      "The angle between vector a and vector b is about 83.\n"
     ]
    }
   ],
   "source": [
    "# List 4-1 Angle formed by straight lines AB and BC\n",
    "import math\n",
    "import numpy as np\n",
    "\n",
    "# Coordinate\n",
    "a = np.array([2, 7])\n",
    "b = np.array([6, 1])\n",
    "c = np.array([2, 3])\n",
    "d = np.array([6, 5])\n",
    "\n",
    "# Components of vector a and vector b\n",
    "va = b - a\n",
    "vb = d - c\n",
    "print(va, vb)\n",
    "\n",
    "# Vector magnitude\n",
    "norm_a = np.linalg.norm(va)\n",
    "norm_b = np.linalg.norm(vb)\n",
    "print(norm_a, norm_b)\n",
    "\n",
    "# Vector inner product\n",
    "dot_ab = np.dot(va, vb)\n",
    "print(dot_ab)\n",
    "\n",
    "# Find the angle\n",
    "cos_th = dot_ab / (norm_a * norm_b)\n",
    "rad = math.acos(cos_th)\n",
    "deg = math.degrees(rad)\n",
    "print(deg)\n",
    "print(f'The angle between vector a and vector b is about {round(deg)}.')"
   ],
   "metadata": {
    "collapsed": false,
    "pycharm": {
     "name": "#%%\n"
    }
   }
  },
  {
   "cell_type": "code",
   "execution_count": 1,
   "outputs": [
    {
     "name": "stdout",
     "output_type": "stream",
     "text": [
      "[ 0  4 -2]\n"
     ]
    }
   ],
   "source": [
    "# Find the outer product of the vector.\n",
    "import numpy as np\n",
    "\n",
    "a = np.array([0, 1, 2])  # Ingredients of a\n",
    "b = np.array([2, 0, 0])  # Ingredients of b\n",
    "cross_product = np.cross(a, b)  # Find the cross product\n",
    "print(cross_product)"
   ],
   "metadata": {
    "collapsed": false,
    "pycharm": {
     "name": "#%%\n"
    }
   }
  },
  {
   "cell_type": "code",
   "execution_count": 2,
   "outputs": [
    {
     "name": "stdout",
     "output_type": "stream",
     "text": [
      "5.0\n"
     ]
    }
   ],
   "source": [
    "# TryPython: Find the area of the triangle\n",
    "import numpy as np\n",
    "\n",
    "a = np.array([2, 4]) # Ingredients of a\n",
    "b = np.array([3, 1]) # Ingredients of b\n",
    "cross_ab = np.cross(a, b) # Find the cross product\n",
    "s = np.linalg.norm(cross_ab) # Find the magnitude of the vector(area of the parallelogram)\n",
    "print(s / 2)\n"
   ],
   "metadata": {
    "collapsed": false,
    "pycharm": {
     "name": "#%%\n"
    }
   }
  }
 ],
 "metadata": {
  "kernelspec": {
   "display_name": "Python 3",
   "language": "python",
   "name": "python3"
  },
  "language_info": {
   "codemirror_mode": {
    "name": "ipython",
    "version": 2
   },
   "file_extension": ".py",
   "mimetype": "text/x-python",
   "name": "python",
   "nbconvert_exporter": "python",
   "pygments_lexer": "ipython2",
   "version": "2.7.6"
  }
 },
 "nbformat": 4,
 "nbformat_minor": 0
}