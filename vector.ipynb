{
 "cells": [
  {
   "cell_type": "code",
   "execution_count": 3,
   "metadata": {
    "collapsed": true
   },
   "outputs": [
    {
     "name": "stdout",
     "output_type": "stream",
     "text": [
      "56.309932474020215\n",
      "Vector direction is about 56 degrees.\n"
     ]
    }
   ],
   "source": [
    "# Find the direction of the vector\n",
    "## Vector with component(2, 3)\n",
    "import math\n",
    "radian = math.atan2(3, 2) # Find the angle.(Radian)\n",
    "th = math.degrees(radian) # Convert to degree method\n",
    "print(th)\n",
    "print(f'Vector direction is about {round(th)} degrees.')"
   ]
  },
  {
   "cell_type": "code",
   "execution_count": 2,
   "outputs": [
    {
     "name": "stdout",
     "output_type": "stream",
     "text": [
      "[4 1]\n",
      "[0 3]\n",
      "[4 4]\n"
     ]
    }
   ],
   "source": [
    "import numpy as np\n",
    "a = np.array([2, 2]) # Component of vector a.\n",
    "b = np.array([2, -1]) # Component of vector b.\n",
    "print(a + b) # Vector a + Vector b\n",
    "print(a - b)\n",
    "print(2 * a)"
   ],
   "metadata": {
    "collapsed": false,
    "pycharm": {
     "name": "#%%\n"
    }
   }
  },
  {
   "cell_type": "code",
   "execution_count": 3,
   "outputs": [
    {
     "data": {
      "text/plain": "{a: 2/3, b: 8/3}"
     },
     "execution_count": 3,
     "metadata": {},
     "output_type": "execute_result"
    }
   ],
   "source": [
    "from sympy import Symbol, solve\n",
    "a = Symbol('a')\n",
    "b = Symbol('b')\n",
    "ex1 = -1*a + b -2\n",
    "ex2 = 2*a + b -4\n",
    "solve((ex1, ex2))"
   ],
   "metadata": {
    "collapsed": false,
    "pycharm": {
     "name": "#%%\n"
    }
   }
  },
  {
   "cell_type": "code",
   "execution_count": 2,
   "outputs": [
    {
     "name": "stdout",
     "output_type": "stream",
     "text": [
      "Taro's contribution is 5\n"
     ]
    }
   ],
   "source": [
    "# Seeking Taro's contribution\n",
    "import math\n",
    "contribution = 10 * math.cos(math.radians(60))\n",
    "print(f\"Taro's contribution is {round(contribution)}\")"
   ],
   "metadata": {
    "collapsed": false,
    "pycharm": {
     "name": "#%%\n"
    }
   }
  }
 ],
 "metadata": {
  "kernelspec": {
   "display_name": "Python 3",
   "language": "python",
   "name": "python3"
  },
  "language_info": {
   "codemirror_mode": {
    "name": "ipython",
    "version": 2
   },
   "file_extension": ".py",
   "mimetype": "text/x-python",
   "name": "python",
   "nbconvert_exporter": "python",
   "pygments_lexer": "ipython2",
   "version": "2.7.6"
  }
 },
 "nbformat": 4,
 "nbformat_minor": 0
}