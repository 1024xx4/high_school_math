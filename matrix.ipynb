{
 "cells": [
  {
   "cell_type": "code",
   "execution_count": 1,
   "metadata": {
    "collapsed": true,
    "pycharm": {
     "name": "#%%\n"
    }
   },
   "outputs": [
    {
     "data": {
      "text/plain": "matrix([[ 80, 140],\n        [ 30,  25]])"
     },
     "execution_count": 1,
     "metadata": {},
     "output_type": "execute_result"
    }
   ],
   "source": [
    "# Matrix addition and subtraction in Python.\n",
    "import numpy as np\n",
    "\n",
    "A = np.matrix([[50, 40], [10, 10]])  # Matrix A(morning)\n",
    "B = np.matrix([[30, 100], [20, 15]])  # Matrix B(night)\n",
    "A + B"
   ]
  },
  {
   "cell_type": "code",
   "execution_count": null,
   "outputs": [],
   "source": [
    "# Find the real multiple of the matrix\n",
    "import numpy as np\n",
    "\n",
    "A = np.matrix([[80, 140], [30, 25]])  # Matrix A\n",
    "0.8 * A"
   ],
   "metadata": {
    "collapsed": false,
    "pycharm": {
     "name": "#%%\n"
    }
   }
  },
  {
   "cell_type": "code",
   "execution_count": 6,
   "outputs": [
    {
     "name": "stdout",
     "output_type": "stream",
     "text": [
      "[[1 3]\n",
      " [2 1]]\n",
      "[[1 3]\n",
      " [2 1]]\n"
     ]
    }
   ],
   "source": [
    "# Let's perform matrix multiplication\n",
    "import numpy as np\n",
    "\n",
    "A = np.matrix([[1, 3], [2, 1]])  # Matrix A\n",
    "B = np.matrix([[150, 250], [130, 230]])  # Matrix B\n",
    "A * B"
   ],
   "metadata": {
    "collapsed": false,
    "pycharm": {
     "name": "#%%\n"
    }
   }
  },
  {
   "cell_type": "code",
   "execution_count": 7,
   "outputs": [
    {
     "name": "stdout",
     "output_type": "stream",
     "text": [
      "[[1 3]\n",
      " [2 1]]\n",
      "[[1 3]\n",
      " [2 1]]\n"
     ]
    }
   ],
   "source": [
    "# Multiplication of l x m matrix and m x n matrix\n",
    "import numpy as np\n",
    "\n",
    "A = np.matrix([[1, 3], [2, 1]])  # Matrix A(2 x 2)\n",
    "B = np.matrix([[145], [72]])  # Matrix B(2 x 1)\n",
    "# Matrix x unit matrix is calculated\n",
    "import numpy as np\n",
    "\n",
    "A = np.matrix([[1, 3], [2, 1]])  # Matrix A\n",
    "E = np.matrix([[1, 0], [0, 1]])  # Unit matrix E\n",
    "print(A * E)\n",
    "print(E * A)"
   ],
   "metadata": {
    "collapsed": false,
    "pycharm": {
     "name": "#%%\n"
    }
   }
  },
  {
   "cell_type": "code",
   "execution_count": 11,
   "outputs": [
    {
     "name": "stdout",
     "output_type": "stream",
     "text": [
      "[[-1.  3.]\n",
      " [ 2. -5.]]\n"
     ]
    },
    {
     "data": {
      "text/plain": "matrix([[1, 0],\n        [0, 0]])"
     },
     "execution_count": 11,
     "metadata": {},
     "output_type": "execute_result"
    }
   ],
   "source": [
    "# Find the inverse matrix\n",
    "import numpy as np\n",
    "A = np.matrix([[5, 3], [2, 1]]) # Matrix A\n",
    "B = np.linalg.inv(A) # Find the inverse matrix(B)\n",
    "print(B)\n",
    "(A * B).astype(np.int64)"
   ],
   "metadata": {
    "collapsed": false,
    "pycharm": {
     "name": "#%%\n"
    }
   }
  }
 ],
 "metadata": {
  "kernelspec": {
   "display_name": "Python 3",
   "language": "python",
   "name": "python3"
  },
  "language_info": {
   "codemirror_mode": {
    "name": "ipython",
    "version": 2
   },
   "file_extension": ".py",
   "mimetype": "text/x-python",
   "name": "python",
   "nbconvert_exporter": "python",
   "pygments_lexer": "ipython2",
   "version": "2.7.6"
  }
 },
 "nbformat": 4,
 "nbformat_minor": 0
}