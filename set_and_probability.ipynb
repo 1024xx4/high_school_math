{
 "cells": [
  {
   "cell_type": "code",
   "execution_count": 6,
   "metadata": {
    "collapsed": true
   },
   "outputs": [
    {
     "name": "stdout",
     "output_type": "stream",
     "text": [
      "True\n",
      "{1, 2, 3, 4, 5, 6, 7, 8, 9, 10}  # 集合A を確認\n",
      "{1, 2, 3, 4, 5, 6, 7, 8, 9, 10} # 集合A を再確認\n",
      "10 # 集合A の要素数\n"
     ]
    }
   ],
   "source": [
    "A = {1, 2, 3, 4, 5, 6, 7, 8, 9, 10}  # 集合A を定義\n",
    "B = {1, 2, 3, 4, 5, 6, 7, 8, 9, 10}  # 集合B を定義\n",
    "print(A == B)  # 集合A と 集合B が等しいか確認\n",
    "print(f'{A}  # 集合A を確認')\n",
    "A.add(10)\n",
    "print(f'{A} # 集合A を再確認')\n",
    "print(f'{len(A)} # 集合A の要素数')\n"
   ]
  }
 ],
 "metadata": {
  "kernelspec": {
   "display_name": "Python 3",
   "language": "python",
   "name": "python3"
  },
  "language_info": {
   "codemirror_mode": {
    "name": "ipython",
    "version": 2
   },
   "file_extension": ".py",
   "mimetype": "text/x-python",
   "name": "python",
   "nbconvert_exporter": "python",
   "pygments_lexer": "ipython2",
   "version": "2.7.6"
  }
 },
 "nbformat": 4,
 "nbformat_minor": 0
}