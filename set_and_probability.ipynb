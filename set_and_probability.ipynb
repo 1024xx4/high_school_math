{
 "cells": [
  {
   "cell_type": "code",
   "execution_count": 6,
   "metadata": {
    "collapsed": true
   },
   "outputs": [
    {
     "name": "stdout",
     "output_type": "stream",
     "text": [
      "True\n",
      "{1, 2, 3, 4, 5, 6, 7, 8, 9, 10}  # 集合A を確認\n",
      "{1, 2, 3, 4, 5, 6, 7, 8, 9, 10} # 集合A を再確認\n",
      "10 # 集合A の要素数\n"
     ]
    }
   ],
   "source": [
    "A = {1, 2, 3, 4, 5, 6, 7, 8, 9, 10}  # 集合A を定義\n",
    "B = {1, 2, 3, 4, 5, 6, 7, 8, 9, 10}  # 集合B を定義\n",
    "print(A == B)  # 集合A と 集合B が等しいか確認\n",
    "print(f'{A}  # 集合A を確認')\n",
    "A.add(10)\n",
    "print(f'{A} # 集合A を再確認')\n",
    "print(f'{len(A)} # 集合A の要素数')"
   ]
  },
  {
   "cell_type": "code",
   "execution_count": 13,
   "outputs": [
    {
     "name": "stdout",
     "output_type": "stream",
     "text": [
      "A は、U の部分集合か？ True\n",
      "\n",
      "A集合 と 集合B の積集合は、{6}。\n",
      "\n",
      "A と B の和集合は、{2, 3, 4, 6, 8, 9, 10}。\n",
      "\n",
      "集合A から集合B の差集合は、{8, 2, 10, 4}。\n",
      "集合B から集合A の差集合は、{9, 3}。\n",
      "\n",
      "集合A と集合B の対象差は、{2, 3, 4, 8, 9, 10}。\n",
      "\n"
     ]
    },
    {
     "data": {
      "text/plain": "set()"
     },
     "execution_count": 13,
     "metadata": {},
     "output_type": "execute_result"
    }
   ],
   "source": [
    "# 全体集合、部分集合、補集合\n",
    "# 比較演算子を利用して\n",
    "U = {1, 2, 4, 4, 5, 6, 7, 8, 9, 10}  # 集合U を定義\n",
    "A = {2, 4, 6, 8, 10}  # 集合A を定義\n",
    "print(f'A は、U の部分集合か？ {A <= U}\\n')\n",
    "\n",
    "# 積集合\n",
    "A = {2, 4, 6, 8, 10}  # 集合A を定義\n",
    "B = {3, 6, 9} # 集合B を定義\n",
    "print(f'A集合 と 集合B の積集合は、{ A & B }。\\n')\n",
    "\n",
    "# 和集合\n",
    "A = {2, 4, 6, 8, 10} # 集合A を定義\n",
    "B = {3, 6, 9} # 集合B を定義\n",
    "print(f'A と B の和集合は、{A | B}。\\n')\n",
    "\n",
    "# 差集合\n",
    "A = {2, 4, 6, 8, 10} # 集合A を定義\n",
    "B = {3, 6, 9} # 集合B を定義\n",
    "print(f'集合A から集合B の差集合は、{A - B}。')\n",
    "print(f'集合B から集合A の差集合は、{B - A}。\\n')\n",
    "\n",
    "# 対象差\n",
    "A = {2, 4, 6, 8, 10} # 集合A を定義\n",
    "B = {3, 6, 9} # 集合B を定義\n",
    "print(f'集合A と集合B の対象差は、{A ^ B}。\\n')\n",
    "\n",
    "# 空集合\n",
    "X = {1, 2, 3} # 集合X を定義\n",
    "Y = {4, 5, 6} # 集合Y を定義\n",
    "X & Y"
   ],
   "metadata": {
    "collapsed": false,
    "pycharm": {
     "name": "#%%\n"
    }
   }
  }
 ],
 "metadata": {
  "kernelspec": {
   "display_name": "Python 3",
   "language": "python",
   "name": "python3"
  },
  "language_info": {
   "codemirror_mode": {
    "name": "ipython",
    "version": 2
   },
   "file_extension": ".py",
   "mimetype": "text/x-python",
   "name": "python",
   "nbconvert_exporter": "python",
   "pygments_lexer": "ipython2",
   "version": "2.7.6"
  }
 },
 "nbformat": 4,
 "nbformat_minor": 0
}