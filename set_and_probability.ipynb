{
 "cells": [
  {
   "cell_type": "code",
   "execution_count": 6,
   "metadata": {
    "collapsed": true
   },
   "outputs": [
    {
     "name": "stdout",
     "output_type": "stream",
     "text": [
      "True\n",
      "{1, 2, 3, 4, 5, 6, 7, 8, 9, 10}  # 集合A を確認\n",
      "{1, 2, 3, 4, 5, 6, 7, 8, 9, 10} # 集合A を再確認\n",
      "10 # 集合A の要素数\n"
     ]
    }
   ],
   "source": [
    "A = {1, 2, 3, 4, 5, 6, 7, 8, 9, 10}  # 集合A を定義\n",
    "B = {1, 2, 3, 4, 5, 6, 7, 8, 9, 10}  # 集合B を定義\n",
    "print(A == B)  # 集合A と 集合B が等しいか確認\n",
    "print(f'{A}  # 集合A を確認')\n",
    "A.add(10)\n",
    "print(f'{A} # 集合A を再確認')\n",
    "print(f'{len(A)} # 集合A の要素数')"
   ]
  },
  {
   "cell_type": "code",
   "execution_count": 13,
   "outputs": [
    {
     "name": "stdout",
     "output_type": "stream",
     "text": [
      "A は、U の部分集合か？ True\n",
      "\n",
      "A集合 と 集合B の積集合は、{6}。\n",
      "\n",
      "A と B の和集合は、{2, 3, 4, 6, 8, 9, 10}。\n",
      "\n",
      "集合A から集合B の差集合は、{8, 2, 10, 4}。\n",
      "集合B から集合A の差集合は、{9, 3}。\n",
      "\n",
      "集合A と集合B の対象差は、{2, 3, 4, 8, 9, 10}。\n",
      "\n"
     ]
    },
    {
     "data": {
      "text/plain": "set()"
     },
     "execution_count": 13,
     "metadata": {},
     "output_type": "execute_result"
    }
   ],
   "source": [
    "# 全体集合、部分集合、補集合\n",
    "# 比較演算子を利用して\n",
    "U = {1, 2, 4, 4, 5, 6, 7, 8, 9, 10}  # 集合U を定義\n",
    "A = {2, 4, 6, 8, 10}  # 集合A を定義\n",
    "print(f'A は、U の部分集合か？ {A <= U}\\n')\n",
    "\n",
    "# 積集合\n",
    "A = {2, 4, 6, 8, 10}  # 集合A を定義\n",
    "B = {3, 6, 9}  # 集合B を定義\n",
    "print(f'A集合 と 集合B の積集合は、{A & B}。\\n')\n",
    "\n",
    "# 和集合\n",
    "A = {2, 4, 6, 8, 10}  # 集合A を定義\n",
    "B = {3, 6, 9}  # 集合B を定義\n",
    "print(f'A と B の和集合は、{A | B}。\\n')\n",
    "\n",
    "# 差集合\n",
    "A = {2, 4, 6, 8, 10}  # 集合A を定義\n",
    "B = {3, 6, 9}  # 集合B を定義\n",
    "print(f'集合A から集合B の差集合は、{A - B}。')\n",
    "print(f'集合B から集合A の差集合は、{B - A}。\\n')\n",
    "\n",
    "# 対象差\n",
    "A = {2, 4, 6, 8, 10}  # 集合A を定義\n",
    "B = {3, 6, 9}  # 集合B を定義\n",
    "print(f'集合A と集合B の対象差は、{A ^ B}。\\n')\n",
    "\n",
    "# 空集合\n",
    "X = {1, 2, 3}  # 集合X を定義\n",
    "Y = {4, 5, 6}  # 集合Y を定義\n",
    "X & Y"
   ],
   "metadata": {
    "collapsed": false,
    "pycharm": {
     "name": "#%%\n"
    }
   }
  },
  {
   "cell_type": "code",
   "execution_count": 15,
   "outputs": [
    {
     "name": "stdout",
     "output_type": "stream",
     "text": [
      "1から10の自然数の中で「2の倍数」または、「3の倍数」は7つある。\n"
     ]
    }
   ],
   "source": [
    "# TryPython 集合の要素数\n",
    "A = {2, 4, 6, 8, 10}  # 集合A (1から10の自然数の中で2の倍数)を定義\n",
    "B = {3, 6, 9}  # 集合B (1から10の自然数の中で3の倍数)を定義\n",
    "print(f'1から10の自然数の中で「2の倍数」または、「3の倍数」は{len(A | B)}つある。')"
   ],
   "metadata": {
    "collapsed": false,
    "pycharm": {
     "name": "#%%\n"
    }
   }
  },
  {
   "cell_type": "code",
   "execution_count": 2,
   "outputs": [
    {
     "name": "stdout",
     "output_type": "stream",
     "text": [
      "num の中から3個を選ぶ順列の集合の要素数は、60\n",
      "(5, 4, 2)\n",
      "(1, 5, 4)\n",
      "(2, 1, 3)\n",
      "(4, 2, 1)\n",
      "(2, 5, 1)\n",
      "(3, 2, 1)\n",
      "(4, 5, 3)\n",
      "(2, 5, 4)\n",
      "(5, 2, 1)\n",
      "(3, 2, 4)\n",
      "(1, 2, 5)\n",
      "(1, 4, 2)\n",
      "(3, 1, 2)\n",
      "(3, 4, 1)\n",
      "(3, 1, 5)\n",
      "(1, 4, 5)\n",
      "(5, 2, 4)\n",
      "(4, 1, 2)\n",
      "(4, 1, 5)\n",
      "(2, 4, 5)\n",
      "(4, 3, 2)\n",
      "(4, 3, 5)\n",
      "(5, 3, 2)\n",
      "(5, 1, 2)\n",
      "(5, 4, 1)\n",
      "(3, 5, 2)\n",
      "(1, 5, 3)\n",
      "(2, 1, 5)\n",
      "(4, 2, 3)\n",
      "(4, 5, 2)\n",
      "(2, 5, 3)\n",
      "(1, 2, 4)\n",
      "(5, 2, 3)\n",
      "(3, 1, 4)\n",
      "(1, 3, 2)\n",
      "(1, 3, 5)\n",
      "(4, 3, 1)\n",
      "(2, 4, 1)\n",
      "(2, 3, 5)\n",
      "(5, 1, 4)\n",
      "(5, 3, 1)\n",
      "(5, 4, 3)\n",
      "(3, 5, 1)\n",
      "(1, 5, 2)\n",
      "(5, 3, 4)\n",
      "(3, 5, 4)\n",
      "(2, 1, 4)\n",
      "(4, 2, 5)\n",
      "(4, 5, 1)\n",
      "(1, 2, 3)\n",
      "(1, 3, 4)\n",
      "(3, 2, 5)\n",
      "(1, 4, 3)\n",
      "(3, 4, 2)\n",
      "(3, 4, 5)\n",
      "(2, 3, 4)\n",
      "(4, 1, 3)\n",
      "(2, 4, 3)\n",
      "(2, 3, 1)\n",
      "(5, 1, 3)\n"
     ]
    }
   ],
   "source": [
    "# TryPython 順列を求める Program\n",
    "import itertools\n",
    "\n",
    "num = {1, 2, 3, 4, 5}  # Data を定義\n",
    "A = set(itertools.permutations(num, 3))\n",
    "print(f'num の中から3個を選ぶ順列の集合の要素数は、{len(A)}')\n",
    "\n",
    "for a in A:\n",
    "    print(a)"
   ],
   "metadata": {
    "collapsed": false,
    "pycharm": {
     "name": "#%%\n"
    }
   }
  },
  {
   "cell_type": "code",
   "execution_count": 5,
   "outputs": [
    {
     "name": "stdout",
     "output_type": "stream",
     "text": [
      "5の階乗は、120\n"
     ]
    }
   ],
   "source": [
    "# TryPython 階乗の計算は factorial()関数で\n",
    "import math\n",
    "\n",
    "fac = math.factorial(5)  # 5の階乗を求める\n",
    "print(f'5の階乗は、{fac}')"
   ],
   "metadata": {
    "collapsed": false,
    "pycharm": {
     "name": "#%%\n"
    }
   }
  },
  {
   "cell_type": "code",
   "execution_count": 8,
   "outputs": [
    {
     "name": "stdout",
     "output_type": "stream",
     "text": [
      "Aの要素数は、125\n",
      "(5, 3, 3)\n",
      "(5, 4, 2)\n",
      "(2, 2, 5)\n",
      "(3, 2, 1)\n",
      "(5, 2, 4)\n",
      "(5, 5, 3)\n",
      "(3, 1, 5)\n",
      "(3, 3, 2)\n",
      "(4, 1, 2)\n",
      "(2, 4, 5)\n",
      "(5, 3, 5)\n",
      "(5, 4, 4)\n",
      "(3, 5, 2)\n",
      "(4, 4, 3)\n",
      "(1, 3, 2)\n",
      "(5, 5, 5)\n",
      "(3, 3, 4)\n",
      "(4, 1, 4)\n",
      "(4, 3, 1)\n",
      "(1, 1, 2)\n",
      "(5, 1, 1)\n",
      "(1, 5, 2)\n",
      "(3, 5, 4)\n",
      "(4, 2, 2)\n",
      "(4, 4, 5)\n",
      "(1, 3, 4)\n",
      "(1, 4, 3)\n",
      "(3, 4, 5)\n",
      "(1, 1, 4)\n",
      "(5, 1, 3)\n",
      "(1, 5, 4)\n",
      "(2, 2, 2)\n",
      "(4, 2, 4)\n",
      "(2, 5, 4)\n",
      "(5, 2, 1)\n",
      "(3, 1, 2)\n",
      "(1, 4, 5)\n",
      "(2, 4, 2)\n",
      "(5, 1, 5)\n",
      "(5, 3, 2)\n",
      "(5, 4, 1)\n",
      "(2, 2, 4)\n",
      "(5, 2, 3)\n",
      "(1, 2, 1)\n",
      "(3, 1, 4)\n",
      "(3, 3, 1)\n",
      "(3, 2, 3)\n",
      "(5, 4, 3)\n",
      "(3, 5, 1)\n",
      "(2, 1, 1)\n",
      "(4, 4, 2)\n",
      "(4, 5, 1)\n",
      "(5, 2, 5)\n",
      "(1, 3, 1)\n",
      "(1, 2, 3)\n",
      "(3, 3, 3)\n",
      "(3, 2, 5)\n",
      "(3, 4, 2)\n",
      "(2, 3, 1)\n",
      "(4, 3, 3)\n",
      "(5, 4, 5)\n",
      "(1, 5, 1)\n",
      "(3, 5, 3)\n",
      "(2, 1, 3)\n",
      "(2, 5, 1)\n",
      "(4, 4, 4)\n",
      "(4, 5, 3)\n",
      "(1, 3, 3)\n",
      "(1, 2, 5)\n",
      "(1, 4, 2)\n",
      "(3, 3, 5)\n",
      "(3, 4, 4)\n",
      "(2, 3, 3)\n",
      "(4, 3, 5)\n",
      "(2, 1, 5)\n",
      "(2, 5, 3)\n",
      "(3, 1, 1)\n",
      "(4, 5, 5)\n",
      "(1, 4, 4)\n",
      "(5, 5, 2)\n",
      "(4, 1, 1)\n",
      "(2, 3, 5)\n",
      "(2, 4, 4)\n",
      "(5, 3, 4)\n",
      "(2, 5, 5)\n",
      "(5, 2, 2)\n",
      "(3, 1, 3)\n",
      "(3, 2, 2)\n",
      "(5, 5, 4)\n",
      "(4, 1, 3)\n",
      "(1, 1, 1)\n",
      "(4, 4, 1)\n",
      "(4, 2, 1)\n",
      "(1, 2, 2)\n",
      "(3, 2, 4)\n",
      "(3, 4, 1)\n",
      "(4, 1, 5)\n",
      "(4, 3, 2)\n",
      "(1, 1, 3)\n",
      "(5, 1, 2)\n",
      "(1, 5, 3)\n",
      "(2, 1, 2)\n",
      "(2, 2, 1)\n",
      "(3, 5, 5)\n",
      "(4, 2, 3)\n",
      "(4, 5, 2)\n",
      "(1, 2, 4)\n",
      "(1, 4, 1)\n",
      "(3, 4, 3)\n",
      "(1, 3, 5)\n",
      "(2, 3, 2)\n",
      "(2, 4, 1)\n",
      "(4, 3, 4)\n",
      "(1, 1, 5)\n",
      "(5, 1, 4)\n",
      "(5, 3, 1)\n",
      "(1, 5, 5)\n",
      "(2, 1, 4)\n",
      "(2, 2, 3)\n",
      "(2, 5, 2)\n",
      "(4, 2, 5)\n",
      "(4, 5, 4)\n",
      "(5, 5, 1)\n",
      "(2, 3, 4)\n",
      "(2, 4, 3)\n"
     ]
    }
   ],
   "source": [
    "# TryPython 重複順列を Program で求める\n",
    "import itertools\n",
    "\n",
    "num = {1, 2, 3, 4, 5}  # Data を定義\n",
    "A = set(itertools.product(num, num, num))  # num の中から3個を選ぶ重複順列\n",
    "print(f'Aの要素数は、{len(A)}')\n",
    "\n",
    "for a in A:\n",
    "    print(a)"
   ],
   "metadata": {
    "collapsed": false,
    "pycharm": {
     "name": "#%%\n"
    }
   }
  },
  {
   "cell_type": "code",
   "execution_count": 13,
   "outputs": [
    {
     "name": "stdout",
     "output_type": "stream",
     "text": [
      "num の中から３個を選ぶ組み合わせは、10。\n",
      "(2, 4, 5)\n",
      "(1, 3, 5)\n",
      "(1, 2, 3)\n",
      "(1, 3, 4)\n",
      "(2, 3, 5)\n",
      "(3, 4, 5)\n",
      "(2, 3, 4)\n",
      "(1, 2, 5)\n",
      "(1, 4, 5)\n",
      "(1, 2, 4)\n",
      "サイコロから２個を選ぶ組み合わせは15通り。\n",
      "２つのサイコロをふった時の目の出方は21通り。\n"
     ]
    }
   ],
   "source": [
    "import itertools\n",
    "\n",
    "num = {1, 2, 3, 4, 5}  # Data を定義\n",
    "A = set(itertools.combinations(num, 3))\n",
    "print(f'num の中から３個を選ぶ組み合わせは、{len(A)}。')\n",
    "for a in A:\n",
    "    print(a)\n",
    "\n",
    "dice = {1, 2, 3, 4, 5, 6}  # サイコロの目を定義\n",
    "A = set(itertools.combinations(dice, 2))\n",
    "print(f'サイコロから２個を選ぶ組み合わせは{len(A)}通り。')\n",
    "# ２つのサイコロの目が小名氏になるのは、6通り。この２つの事象は同時に起こることがないので和の法則を使う。\n",
    "print(f'２つのサイコロをふった時の目の出方は{len(A) + 6}通り。')"
   ],
   "metadata": {
    "collapsed": false,
    "pycharm": {
     "name": "#%%\n"
    }
   }
  },
  {
   "cell_type": "code",
   "execution_count": 1,
   "outputs": [
    {
     "name": "stdout",
     "output_type": "stream",
     "text": [
      "0.168\n",
      "1 0.1675\n",
      "2 0.1685\n",
      "3 0.1617\n",
      "4 0.1649\n",
      "5 0.1711\n",
      "6 0.1663\n",
      "-------------\n",
      "1.0\n"
     ]
    }
   ],
   "source": [
    "# List6-1 １の目が出る確率\n",
    "import random\n",
    "\n",
    "# サイコロを振る\n",
    "cnt = 0  # １が出た回数\n",
    "for i in range(10_000):\n",
    "    dice = random.randint(1, 6)\n",
    "    if dice == 1:\n",
    "        cnt += 1\n",
    "\n",
    "# 確率を求める\n",
    "p = cnt / 10_000\n",
    "print(p)\n",
    "\n",
    "# List6-2 すべての事象が起こる確率\n",
    "\n",
    "# サイコロをふる\n",
    "hist = [0] * 7\n",
    "for i in range(10_000):\n",
    "    dice = random.randint(1, 6)\n",
    "    hist[dice] += 1\n",
    "\n",
    "# 確率を求める\n",
    "p = [0] * 7\n",
    "for i in range(1, 7):\n",
    "    p[i] = hist[i] / 10_000\n",
    "    print(i, p[i])\n",
    "# 確率を合計\n",
    "print('-------------\\n' + str(sum(p)))"
   ],
   "metadata": {
    "collapsed": false,
    "pycharm": {
     "name": "#%%\n"
    }
   }
  },
  {
   "cell_type": "code",
   "execution_count": 3,
   "outputs": [
    {
     "name": "stdout",
     "output_type": "stream",
     "text": [
      "1/6\n",
      "３番目にくじを引く人が当たる確率は、2/7\n"
     ]
    }
   ],
   "source": [
    "# TryPython ３番目にくじを引く人が当たる確率を求める\n",
    "from fractions import Fraction\n",
    "\n",
    "print(Fraction(1, 6))\n",
    "\n",
    "x = Fraction(2, 7) * Fraction(5, 6) * Fraction(1, 5)  # 事象X（A 当たり -> B はずれ -> C 当たり）\n",
    "y = Fraction(5, 7) * Fraction(2, 6) * Fraction(1, 5)  # 事象Y（A はずれ -> B はずれ -> C 当たり）\n",
    "z = Fraction(5, 7) * Fraction(4, 6) * Fraction(2, 5)  # 事象Z（A はずれ -> B はずれ -> C 当たり）\n",
    "p = x + y + z\n",
    "print(f'３番目にくじを引く人が当たる確率は、{p}')"
   ],
   "metadata": {
    "collapsed": false,
    "pycharm": {
     "name": "#%%\n"
    }
   }
  },
  {
   "cell_type": "code",
   "execution_count": 5,
   "outputs": [
    {
     "data": {
      "text/plain": "<Figure size 432x288 with 1 Axes>",
      "image/png": "[encoded data removed]"
     },
     "metadata": {
      "needs_background": "light"
     },
     "output_type": "display_data"
    },
    {
     "name": "stdout",
     "output_type": "stream",
     "text": [
      "3.1773333333333333\n"
     ]
    }
   ],
   "source": [
    "# TryPython モンテカルロ法で円周率を計算しよう\n",
    "# List 6-3 円周率を求める\n",
    "import matplotlib.pyplot as plt\n",
    "import random\n",
    "import math\n",
    "\n",
    "# 点を描画\n",
    "cnt = 0\n",
    "for i in range(3000):\n",
    "    x = random.randint(1, 100)\n",
    "    y = random.randint(1, 100)\n",
    "    d = math.sqrt((x - 50) ** 2 + (y - 50) ** 2)  # 中心の点との距離\n",
    "    if (d <= 50):\n",
    "        cnt += 1  # 円内の点を数える\n",
    "        plt.scatter(x, y, marker='.', c='r')  # 赤色の点を数える\n",
    "    else:\n",
    "        plt.scatter(x, y, marker='.', c='g')  # 緑色の点を描画\n",
    "plt.axis('equal')\n",
    "plt.show()\n",
    "\n",
    "# 円周率を求める\n",
    "p = cnt / 3000  # 点が円の中にある確率\n",
    "pi = p * 4  # 円周率\n",
    "print(pi)"
   ],
   "metadata": {
    "collapsed": false,
    "pycharm": {
     "name": "#%%\n"
    }
   }
  }
 ],
 "metadata": {
  "kernelspec": {
   "display_name": "Python 3",
   "language": "python",
   "name": "python3"
  },
  "language_info": {
   "codemirror_mode": {
    "name": "ipython",
    "version": 2
   },
   "file_extension": ".py",
   "mimetype": "text/x-python",
   "name": "python",
   "nbconvert_exporter": "python",
   "pygments_lexer": "ipython2",
   "version": "2.7.6"
  }
 },
 "nbformat": 4,
 "nbformat_minor": 0
}