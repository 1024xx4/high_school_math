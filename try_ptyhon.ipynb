{
 "cells": [
  {
   "cell_type": "code",
   "execution_count": 1,
   "metadata": {
    "collapsed": true
   },
   "outputs": [
    {
     "data": {
      "text/plain": "<Figure size 432x288 with 1 Axes>",
      "image/png": "[encoded data removed]"
     },
     "metadata": {
      "needs_background": "light"
     },
     "output_type": "display_data"
    }
   ],
   "source": [
    "import matplotlib.pyplot as plt\n",
    "\n",
    "# Data\n",
    "x = [1, 2, 3, 4, 5, 6, 7]\n",
    "y = [64.3, 63.8, 63.6, 64.0, 63.5, 63.2, 63.1]\n",
    "\n",
    "# Draw graph\n",
    "plt.plot(x, y)  # Draw a polygonal line.\n",
    "plt.grid(color='0.8')  # Show grid.\n",
    "plt.show()"
   ]
  },
  {
   "cell_type": "code",
   "execution_count": 1,
   "outputs": [
    {
     "name": "stdout",
     "output_type": "stream",
     "text": [
      "{a: 1/2, b: 1/2}\n"
     ]
    }
   ],
   "source": [
    "# List 3-4 Solve simultaneous equations.\n",
    "from sympy import Symbol, solve\n",
    "\n",
    "# Define expression.\n",
    "a = Symbol('a')\n",
    "b = Symbol('b')\n",
    "ex1 = a + b - 1\n",
    "ex2 = 5 * a + b - 3\n",
    "\n",
    "# Solving simultaneous equations.\n",
    "print(solve((ex1, ex2)))"
   ],
   "metadata": {
    "collapsed": false,
    "pycharm": {
     "name": "#%%\n"
    }
   }
  },
  {
   "cell_type": "code",
   "execution_count": 2,
   "outputs": [
    {
     "data": {
      "text/plain": "<Figure size 432x288 with 1 Axes>",
      "image/png": "[encoded data removed]"
     },
     "metadata": {
      "needs_background": "light"
     },
     "output_type": "display_data"
    }
   ],
   "source": [
    "# List3-5 Graph of y = 1 / 2 * x + 1 / 2 and -2 * x + 7\n",
    "import matplotlib.pyplot as plt\n",
    "import numpy as np\n",
    "\n",
    "x = np.arange(-1, 6)  # x-axis value.\n",
    "y = 1 / 2 * x + 1 / 2  # Straight line 1\n",
    "y2 = -2 * x + 7  # A straight line that goes straight to straight line 1.1.imag\n",
    "\n",
    "# Draw graph.\n",
    "plt.plot(x, y)\n",
    "plt.plot(x, y2)\n",
    "plt.axis('equal')\n",
    "plt.grid(color='0.8')\n",
    "plt.show()"
   ],
   "metadata": {
    "collapsed": false,
    "pycharm": {
     "name": "#%%\n"
    }
   }
  },
  {
   "cell_type": "code",
   "execution_count": 1,
   "outputs": [
    {
     "name": "stdout",
     "output_type": "stream",
     "text": [
      "{x: 2.00000000000000, y: 3.00000000000000}\n"
     ]
    }
   ],
   "source": [
    "from sympy import Symbol, solve\n",
    "\n",
    "x = Symbol('x')\n",
    "y = Symbol('y')\n",
    "ex1 = -3 / 2 * x + 6 - y\n",
    "ex2 = 1 / 2 * x + 2 - y\n",
    "print(solve((ex1, ex2)))"
   ],
   "metadata": {
    "collapsed": false,
    "pycharm": {
     "name": "#%%\n"
    }
   }
  },
  {
   "cell_type": "code",
   "execution_count": 2,
   "outputs": [
    {
     "data": {
      "text/plain": "<Figure size 432x288 with 1 Axes>",
      "image/png": "[encoded data removed]"
     },
     "metadata": {
      "needs_background": "light"
     },
     "output_type": "display_data"
    }
   ],
   "source": [
    "import matplotlib.pyplot as plt\n",
    "import numpy as np\n",
    "\n",
    "# Slope and intercept of the underlying line segment.\n",
    "# Vertical bisector of the line segment connecting (0,1)to(6,5)\n",
    "a1 = (5 - 1) / (6 - 0)\n",
    "b1 = 1\n",
    "\n",
    "# Midpoint of line segment.\n",
    "cx = (0 + 6) / 2\n",
    "cy = (1 + 5) / 2\n",
    "\n",
    "# Slope of a straight line orthogonal to a line segment.\n",
    "a2 = -1 / a1\n",
    "\n",
    "# Intercept of a straight line orthogonal to a line segment.\n",
    "b2 = cy - a2 * cx\n",
    "\n",
    "# Equation of a straight line.\n",
    "x = np.arange(0, 7)  # Value of a x\n",
    "y1 = a1 * x + b1  # Original line segment.\n",
    "y2 = a2 * x + b2  # Vertical bisector.\n",
    "\n",
    "# Drawing.\n",
    "plt.plot(x, y1)\n",
    "plt.plot(x, y2)\n",
    "plt.axis('equal')\n",
    "plt.grid(color='0.8')\n",
    "plt.show()"
   ],
   "metadata": {
    "collapsed": false,
    "pycharm": {
     "name": "#%%\n"
    }
   }
  }
 ],
 "metadata": {
  "kernelspec": {
   "display_name": "Python 3",
   "language": "python",
   "name": "python3"
  },
  "language_info": {
   "codemirror_mode": {
    "name": "ipython",
    "version": 2
   },
   "file_extension": ".py",
   "mimetype": "text/x-python",
   "name": "python",
   "nbconvert_exporter": "python",
   "pygments_lexer": "ipython2",
   "version": "2.7.6"
  }
 },
 "nbformat": 4,
 "nbformat_minor": 0
}